{
 "cells": [
  {
   "cell_type": "code",
   "execution_count": 2,
   "metadata": {},
   "outputs": [],
   "source": [
    "import numpy as np\n",
    "import os\n",
    "import pandas as pd\n",
    "import requests\n",
    "import json\n",
    "import urllib\n",
    "import tensorflow as tf\n",
    "import tensorflow_datasets\n",
    "from tensorflow import keras\n",
    "from gensim.models.callbacks import CallbackAny2Vec\n",
    "%config Completer.use_jedi =False\n",
    "from gensim.models import Word2Vec"
   ]
  },
  {
   "cell_type": "code",
   "execution_count": 4,
   "metadata": {},
   "outputs": [],
   "source": [
    "models = os.path.join(os.getcwd(),\"Models\")\n",
    "if not os.path.exists(models):\n",
    "    os.mkdir(models)"
   ]
  },
  {
   "cell_type": "code",
   "execution_count": 9,
   "metadata": {},
   "outputs": [],
   "source": [
    "#using gensim to learn feature embeddings for each hero\n",
    "'''Each hero has an embedding size of 30.\n",
    "Trained using cbow'''\n",
    "modified_names_array=np.load('picks_and_bans\\\\modified_names_array.npy')\n",
    "modified_names_array=modified_names_array.tolist()\n",
    "model=Word2Vec(sentences=modified_names_array,min_count=10,vector_size=30,workers=6,hs=0,negative=5,ns_exponent=0.75,sg=0)\n",
    "model.save('Models\\\\modified_gensim_w2v_30')"
   ]
  },
  {
   "cell_type": "code",
   "execution_count": 6,
   "metadata": {},
   "outputs": [],
   "source": [
    "model=Word2Vec.load('Models\\\\modified_gensim_w2v_30')"
   ]
  },
  {
   "cell_type": "code",
   "execution_count": 10,
   "metadata": {},
   "outputs": [
    {
     "data": {
      "text/plain": [
       "[('Storm Spirit', 0.7895029783248901),\n",
       " ('Ember Spirit', 0.7521005272865295),\n",
       " ('Death Prophet', 0.6182236671447754),\n",
       " ('Kunkka', 0.5723374485969543),\n",
       " ('Queen of Pain', 0.5621659755706787),\n",
       " ('Invoker', 0.5509742498397827),\n",
       " ('Tiny', 0.5429650545120239),\n",
       " ('Puck', 0.5337207913398743),\n",
       " ('Doom', 0.5308213829994202),\n",
       " ('Leshrac', 0.4920659363269806)]"
      ]
     },
     "execution_count": 10,
     "metadata": {},
     "output_type": "execute_result"
    }
   ],
   "source": [
    "model.wv.most_similar('Void Spirit', topn=10)"
   ]
  },
  {
   "cell_type": "code",
   "execution_count": 11,
   "metadata": {},
   "outputs": [
    {
     "data": {
      "text/plain": [
       "array([-0.14890763,  0.12549475, -0.7875333 , -0.74437964,  0.2588019 ,\n",
       "       -0.2920706 , -0.1750087 , -0.74716747, -0.0983211 , -0.9190139 ,\n",
       "        1.4005284 ,  1.1487281 ,  0.98441565, -0.8690871 , -1.4844764 ,\n",
       "        0.6120156 , -0.5402824 ,  0.7261612 ,  1.141535  ,  1.0398731 ,\n",
       "        0.82617176, -0.8298969 , -0.6544508 , -0.27534065, -0.8296161 ,\n",
       "       -2.3745613 , -0.15422688,  1.6325833 , -0.19644968, -0.60579926],\n",
       "      dtype=float32)"
      ]
     },
     "execution_count": 11,
     "metadata": {},
     "output_type": "execute_result"
    }
   ],
   "source": [
    "model.wv['Weaver']"
   ]
  },
  {
   "cell_type": "code",
   "execution_count": 9,
   "metadata": {},
   "outputs": [],
   "source": [
    "#Replacing names with embeddings in names array\n",
    "embedding_array=[]\n",
    "for i in modified_names_array:\n",
    "    buff=[]\n",
    "    for j in i:\n",
    "        buff.append(model.wv[j].tolist())\n",
    "    embedding_array.append(buff)\n",
    "embedding_array=np.array(embedding_array)\n",
    "np.save(\"picks_and_bans\\\\modified_embedding_array_30\",embedding_array)"
   ]
  },
  {
   "cell_type": "code",
   "execution_count": 13,
   "metadata": {},
   "outputs": [],
   "source": [
    "#Creating a csv file with hero to embeddings mapping\n",
    "embed_dict={}\n",
    "hero_df=pd.read_csv('hero_df.csv')\n",
    "hero_dict={}\n",
    "for i in hero_df['sid']:\n",
    "    hero_dict[i]=hero_df[hero_df['sid']==i]['localized_name'].values[0]\n",
    "for i in hero_dict.values():\n",
    "    embed_dict[i]=model.wv[i]\n",
    "embedding_df=pd.DataFrame(embed_dict).T\n",
    "embedding_df.to_csv('modified_hero_to_embedding.csv')"
   ]
  }
 ],
 "metadata": {
  "kernelspec": {
   "display_name": "Python 3",
   "language": "python",
   "name": "python3"
  },
  "language_info": {
   "codemirror_mode": {
    "name": "ipython",
    "version": 3
   },
   "file_extension": ".py",
   "mimetype": "text/x-python",
   "name": "python",
   "nbconvert_exporter": "python",
   "pygments_lexer": "ipython3",
   "version": "3.7.9"
  }
 },
 "nbformat": 4,
 "nbformat_minor": 4
}
