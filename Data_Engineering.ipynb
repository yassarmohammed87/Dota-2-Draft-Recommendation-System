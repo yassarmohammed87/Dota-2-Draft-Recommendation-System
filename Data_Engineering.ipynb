{
 "cells": [
  {
   "cell_type": "code",
   "execution_count": 1,
   "metadata": {},
   "outputs": [],
   "source": [
    "import numpy as np\n",
    "import pandas as pd\n",
    "import requests\n",
    "import json\n",
    "import urllib\n",
    "import tensorflow as tf\n",
    "import tensorflow_datasets\n",
    "from tensorflow import keras\n",
    "from gensim.models.callbacks import CallbackAny2Vec\n",
    "%config Completer.use_jedi =False\n",
    "from gensim.models import Word2Vec\n",
    "import matplotlib.pyplot as plt\n",
    "import pickle"
   ]
  },
  {
   "cell_type": "code",
   "execution_count": 32,
   "metadata": {},
   "outputs": [],
   "source": [
    "picks_array=np.load('picks_and_bans/picks_array.npy')\n",
    "bans_array=np.load('picks_and_bans/bans_array.npy')"
   ]
  },
  {
   "cell_type": "code",
   "execution_count": 33,
   "metadata": {},
   "outputs": [],
   "source": [
    "'''Getting index of the last match having 12 bans'''\n",
    "till12=0\n",
    "for i in bans_array:\n",
    "    if i[-1]!=-1:\n",
    "        break\n",
    "    till12+=1"
   ]
  },
  {
   "cell_type": "code",
   "execution_count": 19,
   "metadata": {},
   "outputs": [],
   "source": [
    "'''replacing last pick of the draft by the last ban of the team having 2nd last pick'''\n",
    "lastpick_mod1=np.copy(picks_array[:till12])\n",
    "lastpick_mod1[:,-1]=bans_array[:till12][:,-3]"
   ]
  },
  {
   "cell_type": "code",
   "execution_count": 34,
   "metadata": {},
   "outputs": [],
   "source": [
    "'''replacing the last ban of the team having 2nd last pick'''\n",
    "bans_mod1=np.copy(bans_array[:till12])\n",
    "bans=[]\n",
    "for i in bans_mod1:\n",
    "    bans.append(np.append(np.delete(i,[-3]),[-1]))\n",
    "bans_mod1=np.array(bans)"
   ]
  },
  {
   "cell_type": "code",
   "execution_count": 35,
   "metadata": {},
   "outputs": [],
   "source": [
    "'''doing the same for matches having 14 bans'''\n",
    "lastpick_mod2=np.copy(picks_array[till12:])\n",
    "lastpick_mod2[:,-1]=bans_array[till12:][:,-2]"
   ]
  },
  {
   "cell_type": "code",
   "execution_count": 36,
   "metadata": {},
   "outputs": [],
   "source": [
    "lastpick_mod3=np.copy(picks_array[till12:])\n",
    "lastpick_mod3[:,-1]=bans_array[till12:][:,-4]"
   ]
  },
  {
   "cell_type": "code",
   "execution_count": 37,
   "metadata": {},
   "outputs": [],
   "source": [
    "bans_mod2=np.copy(bans_array[till12:])\n",
    "bans=[]\n",
    "for i in bans_mod2:\n",
    "    bans.append(np.append(np.delete(i,[-2,-4]),[-1,-1]))\n",
    "\n",
    "bans_mod2=np.array(bans)\n",
    "bans_mod2=np.concatenate((bans_mod2,bans_mod2))"
   ]
  },
  {
   "cell_type": "code",
   "execution_count": 38,
   "metadata": {},
   "outputs": [],
   "source": [
    "#concatenating the aritficially formed match data with the actualy match data \n",
    "increment_pick_array=np.concatenate((lastpick_mod1,lastpick_mod2,lastpick_mod3))\n",
    "np.save('picks_and_bans\\\\increment_pick_array',increment_pick_array)"
   ]
  },
  {
   "cell_type": "code",
   "execution_count": 39,
   "metadata": {},
   "outputs": [],
   "source": [
    "increment_bans_array=np.concatenate((bans_mod1,bans_mod2))\n",
    "np.save('picks_and_bans\\\\increment_bans_array',increment_bans_array)"
   ]
  },
  {
   "cell_type": "code",
   "execution_count": 40,
   "metadata": {},
   "outputs": [],
   "source": [
    "increment_pick_array=np.load('picks_and_bans\\\\increment_pick_array.npy')\n",
    "modified_pick_array=np.append(picks_array,increment_pick_array,axis=0)\n",
    "np.save('picks_and_bans\\\\extended_pick_array',modified_pick_array)\n",
    "increment_bans=np.load('picks_and_bans\\\\increment_bans_array.npy',allow_pickle=True)\n",
    "extended_bans_array=np.append(bans_array,increment_bans_array,axis=0)\n",
    "np.save('picks_and_bans\\\\extended_bans_array',extended_bans_array)"
   ]
  },
  {
   "cell_type": "code",
   "execution_count": null,
   "metadata": {},
   "outputs": [],
   "source": [
    "##########################################Data Structuring for Gensim Embeddings ##########################################"
   ]
  },
  {
   "cell_type": "code",
   "execution_count": 41,
   "metadata": {},
   "outputs": [],
   "source": [
    "#Creating array of matches holding the names rather than the id\n",
    "modified_pick_array=np.load('picks_and_bans\\\\extended_pick_array.npy')\n",
    "hero_df=pd.read_csv('hero_df.csv')\n",
    "hero_dict={}\n",
    "for i in hero_df['sid']:\n",
    "    hero_dict[i]=hero_df[hero_df['sid']==i]['localized_name'].values[0]\n",
    "names_array=[]\n",
    "for i in modified_pick_array:\n",
    "    filler=[]\n",
    "    for j in i:\n",
    "        filler.append(hero_dict[j])\n",
    "    names_array.append(filler)\n",
    "modified_names_array=np.array(names_array)"
   ]
  },
  {
   "cell_type": "code",
   "execution_count": 42,
   "metadata": {},
   "outputs": [],
   "source": [
    "modified_bans_array=np.load('picks_and_bans\\\\extended_bans_array.npy')\n",
    "hero_df=pd.read_csv('hero_df.csv')\n",
    "hero_dict={}\n",
    "for i in hero_df['sid']:\n",
    "    hero_dict[i]=hero_df[hero_df['sid']==i]['localized_name'].values[0]\n",
    "bans_names_array=[]\n",
    "for i in modified_bans_array:\n",
    "    filler=[]\n",
    "    for j in i:\n",
    "        if j==-1:\n",
    "            filler.append('empty')\n",
    "        else:\n",
    "            filler.append(hero_dict[j])\n",
    "    bans_names_array.append(filler)\n",
    "modified_bans_names_array=np.array(bans_names_array)"
   ]
  },
  {
   "cell_type": "code",
   "execution_count": 43,
   "metadata": {},
   "outputs": [
    {
     "name": "stdout",
     "output_type": "stream",
     "text": [
      "[ 82439  20584  52366 ... 103694    860  15795]\n"
     ]
    }
   ],
   "source": [
    "#shuffling the data\n",
    "np.random.seed(42)\n",
    "p=np.random.permutation(modified_names_array.shape[0])\n",
    "print(p)\n",
    "modified_pick_array=modified_pick_array[p]\n",
    "modified_names_array=modified_names_array[p]\n",
    "modified_names_array=modified_names_array.tolist()\n",
    "np.save('picks_and_bans\\\\modified_names_array',modified_names_array)\n",
    "np.save('picks_and_bans\\\\modified_pick_array',modified_pick_array)"
   ]
  },
  {
   "cell_type": "code",
   "execution_count": 44,
   "metadata": {},
   "outputs": [],
   "source": [
    "#shuffling the data\n",
    "np.random.seed(42)\n",
    "p=np.random.permutation(modified_bans_names_array.shape[0])\n",
    "modified_bans_array=modified_bans_array[p]\n",
    "modified_bans_names_array=modified_bans_names_array[p]\n",
    "# modified_names_array=modified_names_array.tolist()\n",
    "np.save('picks_and_bans\\\\modified_bans_names_array',modified_bans_names_array)\n",
    "np.save('picks_and_bans\\\\modified_bans_array',modified_bans_array)"
   ]
  }
 ],
 "metadata": {
  "kernelspec": {
   "display_name": "Python 3",
   "language": "python",
   "name": "python3"
  },
  "language_info": {
   "codemirror_mode": {
    "name": "ipython",
    "version": 3
   },
   "file_extension": ".py",
   "mimetype": "text/x-python",
   "name": "python",
   "nbconvert_exporter": "python",
   "pygments_lexer": "ipython3",
   "version": "3.7.9"
  }
 },
 "nbformat": 4,
 "nbformat_minor": 4
}
