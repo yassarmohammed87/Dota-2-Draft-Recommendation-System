{
 "cells": [
  {
   "cell_type": "code",
   "execution_count": 1,
   "metadata": {},
   "outputs": [],
   "source": [
    "import numpy as np\n",
    "import pandas as pd\n",
    "import os\n",
    "import requests\n",
    "import json\n",
    "import urllib\n",
    "import tensorflow as tf\n",
    "import tensorflow_datasets\n",
    "from tensorflow import keras\n",
    "import tensorflow.keras.backend as K\n",
    "from tensorflow.keras.models import  Model\n",
    "from tensorflow.keras.layers import Input, Lambda, Dense, dot\n",
    "import tensorflow.keras as keras\n",
    "%config Completer.use_jedi =False"
   ]
  },
  {
   "cell_type": "code",
   "execution_count": 23,
   "metadata": {},
   "outputs": [],
   "source": [
    "'''Make sure you have a steam account before running this code\n",
    "Data includes draft data from patches-('7.24'\",\"'7.25'\",\"'7.26'\",\"'7.27'\",\"'7.28'\",\"'7.29'\",\"'7.30')\n",
    "\n",
    "Note:Patches-'7.24','7.25','7.26' have only 12 bans whereas the rest of them have 14.Appended two -1's  to make the\n",
    "array consistent\n",
    "'''\n",
    "wd=os.getcwd()\n",
    "pnb = os.path.join(wd,\"picks_and_bans\")\n",
    "dj = os.path.join(wd,\"draft_json\")\n",
    "if not os.path.exists(pnb):\n",
    "    os.mkdir(pnb)\n",
    "if not os.path.exists(dj):\n",
    "    os.mkdir(dj)\n",
    "\n",
    "heroes_df=pd.read_csv('hero_df.csv')\n",
    "patches=[\"'7.24'\",\"'7.25'\",\"'7.26'\",\"'7.27'\",\"'7.28'\",\"'7.29'\",\"'7.30'\"]\n",
    "for i in patches:\n",
    "    query_string=\"Select matches.picks_bans from matches join match_patch using(match_id) where match_patch.patch like \"+i\n",
    "    quoted_string=urllib.parse.quote(query_string)\n",
    "    json_response = requests.get(\n",
    "        'https://api.opendota.com/api/explorer?sql=' + quoted_string).json()\n",
    "    f=open('draft_json\\\\'+i.lstrip('\\'').rstrip('\\'')+\".json\",\"w\")\n",
    "    json.dump(json_response,f)\n",
    "    f.close()"
   ]
  },
  {
   "cell_type": "code",
   "execution_count": 10,
   "metadata": {},
   "outputs": [],
   "source": [
    "picks_list = []\n",
    "bans_list = []\n",
    "hero_df=pd.read_csv('hero_df.csv')\n",
    "json_files='draft_json/'\n",
    "for name in (\"7.24.json\",\"7.25.json\",\"7.26.json\",\"7.27.json\",\"7.28.json\",\"7.29.json\",\"7.30.json\"):\n",
    "    with open(json_files+name) as f:\n",
    "        json_response=json.load(f)\n",
    "    rowsdf=pd.DataFrame(json_response['rows'])\n",
    "    if name in [\"7.27.json\",\"7.28.json\",\"7.29.json\",\"7.30.json\"]:\n",
    "        instances=24\n",
    "    else:\n",
    "        instances=22\n",
    "    for i in rowsdf['picks_bans']:\n",
    "        picks=[]\n",
    "        bans=[]\n",
    "        try:\n",
    "            for j in range(instances):\n",
    "                current=hero_df.loc[hero_df['id']==i[j]['hero_id']]['sid'].values[0]\n",
    "                \n",
    "                if i[j]['is_pick']:\n",
    "                    picks.append(current)\n",
    "                else:\n",
    "                    bans.append(current)\n",
    "                \n",
    "                    \n",
    "        except:\n",
    "            continue\n",
    "        if name in [\"7.27.json\",\"7.28.json\",\"7.29.json\",\"7.30.json\"]:\n",
    "            if len(picks)<10 or len(bans)<14:\n",
    "                continue\n",
    "            else:\n",
    "                picks_list.append(picks)\n",
    "                bans_list.append(bans)\n",
    "        else:\n",
    "            if len(picks)<10 or len(bans)<12:\n",
    "                continue\n",
    "            else:\n",
    "                \n",
    "                bans.append(-1)\n",
    "                bans.append(-1)\n",
    "                picks_list.append(picks)\n",
    "                bans_list.append(bans)\n",
    "        \n",
    "        \n",
    "picks_array=np.array(picks_list).astype('int32')\n",
    "bans_array=np.array(bans_list).astype('int32')\n",
    "np.save('picks_and_bans\\\\picks_array',picks_array)\n",
    "np.save('picks_and_bans\\\\bans_array',bans_array)\n",
    "            \n",
    "            "
   ]
  },
  {
   "cell_type": "code",
   "execution_count": 4,
   "metadata": {},
   "outputs": [],
   "source": [
    "picks_array=np.load('picks_array.npy')\n",
    "bans_array=np.load('bans_array.npy')"
   ]
  }
 ],
 "metadata": {
  "kernelspec": {
   "display_name": "Python 3",
   "language": "python",
   "name": "python3"
  },
  "language_info": {
   "codemirror_mode": {
    "name": "ipython",
    "version": 3
   },
   "file_extension": ".py",
   "mimetype": "text/x-python",
   "name": "python",
   "nbconvert_exporter": "python",
   "pygments_lexer": "ipython3",
   "version": "3.7.9"
  }
 },
 "nbformat": 4,
 "nbformat_minor": 4
}
